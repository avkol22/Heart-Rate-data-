{
 "cells": [
  {
   "cell_type": "markdown",
   "id": "bfd7aa6e",
   "metadata": {},
   "source": [
    "### Overview of the data "
   ]
  },
  {
   "cell_type": "code",
   "execution_count": 1,
   "id": "b9132467",
   "metadata": {},
   "outputs": [
    {
     "name": "stderr",
     "output_type": "stream",
     "text": [
      "c:\\Users\\annav\\Miniconda3\\envs\\IntelligentSystems\\Lib\\site-packages\\sklearn\\linear_model\\_logistic.py:469: ConvergenceWarning: lbfgs failed to converge (status=1):\n",
      "STOP: TOTAL NO. of ITERATIONS REACHED LIMIT.\n",
      "\n",
      "Increase the number of iterations (max_iter) or scale the data as shown in:\n",
      "    https://scikit-learn.org/stable/modules/preprocessing.html\n",
      "Please also refer to the documentation for alternative solver options:\n",
      "    https://scikit-learn.org/stable/modules/linear_model.html#logistic-regression\n",
      "  n_iter_i = _check_optimize_result(\n",
      "c:\\Users\\annav\\Miniconda3\\envs\\IntelligentSystems\\Lib\\site-packages\\sklearn\\linear_model\\_logistic.py:469: ConvergenceWarning: lbfgs failed to converge (status=1):\n",
      "STOP: TOTAL NO. of ITERATIONS REACHED LIMIT.\n",
      "\n",
      "Increase the number of iterations (max_iter) or scale the data as shown in:\n",
      "    https://scikit-learn.org/stable/modules/preprocessing.html\n",
      "Please also refer to the documentation for alternative solver options:\n",
      "    https://scikit-learn.org/stable/modules/linear_model.html#logistic-regression\n",
      "  n_iter_i = _check_optimize_result(\n",
      "c:\\Users\\annav\\Miniconda3\\envs\\IntelligentSystems\\Lib\\site-packages\\sklearn\\linear_model\\_logistic.py:469: ConvergenceWarning: lbfgs failed to converge (status=1):\n",
      "STOP: TOTAL NO. of ITERATIONS REACHED LIMIT.\n",
      "\n",
      "Increase the number of iterations (max_iter) or scale the data as shown in:\n",
      "    https://scikit-learn.org/stable/modules/preprocessing.html\n",
      "Please also refer to the documentation for alternative solver options:\n",
      "    https://scikit-learn.org/stable/modules/linear_model.html#logistic-regression\n",
      "  n_iter_i = _check_optimize_result(\n",
      "c:\\Users\\annav\\Miniconda3\\envs\\IntelligentSystems\\Lib\\site-packages\\sklearn\\linear_model\\_logistic.py:469: ConvergenceWarning: lbfgs failed to converge (status=1):\n",
      "STOP: TOTAL NO. of ITERATIONS REACHED LIMIT.\n",
      "\n",
      "Increase the number of iterations (max_iter) or scale the data as shown in:\n",
      "    https://scikit-learn.org/stable/modules/preprocessing.html\n",
      "Please also refer to the documentation for alternative solver options:\n",
      "    https://scikit-learn.org/stable/modules/linear_model.html#logistic-regression\n",
      "  n_iter_i = _check_optimize_result(\n",
      "c:\\Users\\annav\\Miniconda3\\envs\\IntelligentSystems\\Lib\\site-packages\\sklearn\\linear_model\\_logistic.py:469: ConvergenceWarning: lbfgs failed to converge (status=1):\n",
      "STOP: TOTAL NO. of ITERATIONS REACHED LIMIT.\n",
      "\n",
      "Increase the number of iterations (max_iter) or scale the data as shown in:\n",
      "    https://scikit-learn.org/stable/modules/preprocessing.html\n",
      "Please also refer to the documentation for alternative solver options:\n",
      "    https://scikit-learn.org/stable/modules/linear_model.html#logistic-regression\n",
      "  n_iter_i = _check_optimize_result(\n"
     ]
    },
    {
     "name": "stdout",
     "output_type": "stream",
     "text": [
      "\n",
      "Overall misclassification rate: 0.139\n",
      "\n",
      "\tReplicate: 1/3\n",
      "\t\tIter\tLoss\t\t\tRel. loss\n",
      "\t\tFinal loss:\n",
      "\t\t39\t2.2124631\t7.543318e-07\n",
      "\n",
      "\tReplicate: 2/3\n",
      "\t\tIter\tLoss\t\t\tRel. loss\n",
      "\t\tFinal loss:\n",
      "\t\t43\t2.2273314\t2.1408457e-07\n",
      "\n",
      "\tReplicate: 3/3\n",
      "\t\tIter\tLoss\t\t\tRel. loss\n",
      "\t\tFinal loss:\n",
      "\t\t140\t2.2811518\t9.406499e-07\n",
      "\n",
      "\tReplicate: 1/3\n",
      "\t\tIter\tLoss\t\t\tRel. loss\n",
      "\t\tFinal loss:\n",
      "\t\t24\t2.2355692\t8.531833e-07\n",
      "\n",
      "\tReplicate: 2/3\n",
      "\t\tIter\tLoss\t\t\tRel. loss\n",
      "\t\tFinal loss:\n",
      "\t\t6\t2.212607\t1.07754595e-07\n",
      "\n",
      "\tReplicate: 3/3\n",
      "\t\tIter\tLoss\t\t\tRel. loss\n",
      "\t\tFinal loss:\n",
      "\t\t27\t2.1514301\t2.2163725e-07\n",
      "\n",
      "\tReplicate: 1/3\n",
      "\t\tIter\tLoss\t\t\tRel. loss\n",
      "\t\tFinal loss:\n",
      "\t\t89\t2.1296997\t6.716959e-07\n",
      "\n",
      "\tReplicate: 2/3\n",
      "\t\tIter\tLoss\t\t\tRel. loss\n",
      "\t\tFinal loss:\n",
      "\t\t2\t2.22043\t5.3687455e-07\n",
      "\n",
      "\tReplicate: 3/3\n",
      "\t\tIter\tLoss\t\t\tRel. loss\n",
      "\t\tFinal loss:\n",
      "\t\t44\t2.1295724\t6.71736e-07\n",
      "\n",
      "\tReplicate: 1/3\n",
      "\t\tIter\tLoss\t\t\tRel. loss\n",
      "\t\tFinal loss:\n",
      "\t\t18\t2.264836\t2.1053933e-07\n",
      "\n",
      "\tReplicate: 2/3\n",
      "\t\tIter\tLoss\t\t\tRel. loss\n",
      "\t\tFinal loss:\n",
      "\t\t633\t2.1357524\t8.930562e-07\n",
      "\n",
      "\tReplicate: 3/3\n",
      "\t\tIter\tLoss\t\t\tRel. loss\n",
      "\t\tFinal loss:\n",
      "\t\t2\t2.2583134\t1.05573726e-07\n",
      "\n",
      "\tReplicate: 1/3\n",
      "\t\tIter\tLoss\t\t\tRel. loss\n",
      "\t\tFinal loss:\n",
      "\t\t2\t2.3511171\t0.0\n",
      "\n",
      "\tReplicate: 2/3\n",
      "\t\tIter\tLoss\t\t\tRel. loss\n",
      "\t\tFinal loss:\n",
      "\t\t81\t2.3164778\t8.2338244e-07\n",
      "\n",
      "\tReplicate: 3/3\n",
      "\t\tIter\tLoss\t\t\tRel. loss\n",
      "\t\tFinal loss:\n",
      "\t\t12\t2.3366675\t3.0610087e-07\n",
      "[0.8055555555555556, 0.5555555555555556, 0.8611111111111112, 0.75, 0.9583333333333334] [0.8409090909090909, 0.7803030303030303, 0.7575757575757576, 0.7651515151515151, 0.9444444444444444]\n"
     ]
    }
   ],
   "source": [
    "import numpy as np\n",
    "import sklearn.linear_model as lm\n",
    "import pandas as pd\n",
    "import scipy.stats as stats\n",
    "import matplotlib.pyplot as plt\n",
    "from prediction_model1 import*\n",
    "from prediction_model2 import*"
   ]
  },
  {
   "cell_type": "code",
   "execution_count": 2,
   "id": "503325b2",
   "metadata": {},
   "outputs": [],
   "source": [
    "data = D.values"
   ]
  },
  {
   "cell_type": "code",
   "execution_count": 3,
   "id": "516004b0",
   "metadata": {},
   "outputs": [
    {
     "data": {
      "image/png": "[encoded data removed]",
      "text/plain": [
       "<Figure size 640x480 with 1 Axes>"
      ]
     },
     "metadata": {},
     "output_type": "display_data"
    }
   ],
   "source": [
    "from collections import Counter\n",
    "# Histogram \n",
    "plt.hist(data[:,1])\n",
    "# Bars \n",
    "counter = Counter(data[:,11])\n",
    "categories = list(counter.keys())\n",
    "counts = list(counter.values())\n",
    "plt.show()\n"
   ]
  },
  {
   "cell_type": "code",
   "execution_count": 4,
   "id": "724d9c82",
   "metadata": {},
   "outputs": [
    {
     "data": {
      "image/png": "[encoded data removed]",
      "text/plain": [
       "<Figure size 640x480 with 1 Axes>"
      ]
     },
     "metadata": {},
     "output_type": "display_data"
    }
   ],
   "source": [
    "plt.bar(categories, counts)\n",
    "plt.show()"
   ]
  },
  {
   "cell_type": "code",
   "execution_count": 8,
   "id": "45d3f82a",
   "metadata": {},
   "outputs": [
    {
     "name": "stdout",
     "output_type": "stream",
     "text": [
      "0.07243558228002943 0.13425606637327303 0.0037878787878787845 0.031565656565656464\n",
      "0.1388888888888889 0.7861111111111112\n"
     ]
    },
    {
     "data": {
      "text/plain": [
       "(None, None)"
      ]
     },
     "execution_count": 8,
     "metadata": {},
     "output_type": "execute_result"
    }
   ],
   "source": [
    "#first model\n",
    "miss_class1 = np.array(missclass)\n",
    "misclass_rate1 = sum(miss_class1)/ len(miss_class1) \n",
    "std1 = miss_class1.std()\n",
    "missclasstr = np.array(missclasstr)\n",
    "gen_err1 =  missclasstr.mean() - miss_class1.mean()\n",
    "\n",
    "\n",
    "# second model \n",
    "missclass2 = np.array(missclass2)\n",
    "missclasstr2 = np.array(missclasstr2)\n",
    "misclass_rate2 = sum(missclass2)/len(missclass2) \n",
    "std2 = missclass2.std()\n",
    "gen_err2 =  missclasstr2.mean() - missclass2.mean()\n",
    "print(std1, std2, gen_err1, gen_err2), print(misclass_rate1, misclass_rate2)"
   ]
  },
  {
   "cell_type": "code",
   "execution_count": 9,
   "id": "46147e5f",
   "metadata": {},
   "outputs": [
    {
     "name": "stdout",
     "output_type": "stream",
     "text": [
      "3 19 24 24\n",
      "p-value: 0.0002771615982055664\n",
      "Statistic: 0.125\n",
      "Significant at alpha=0.05? True\n",
      "p-value: 0.061449394340552015\n",
      "Statistic: 0.7916666666666666\n",
      "Significant at alpha=0.05? False\n"
     ]
    }
   ],
   "source": [
    "# Binomial test \n",
    "\n",
    "p_1 = 0.5\n",
    "p_2 = 0.909\n",
    "n1 = int(len(test_index))\n",
    "n2 = test_len\n",
    "x1 = round(misclass_rate1 * n1)\n",
    "x2 = round(misclass_rate2 * n2)\n",
    "print(x1,x2, n1, n2)\n",
    "test1 = stats.binomtest(x1,n1,p_1)\n",
    "test2 = stats.binomtest(x2,n2,p_2)\n",
    "\n",
    "\n",
    "# Output results for test 1\n",
    "print(\"p-value:\", test1.pvalue)\n",
    "print(\"Statistic:\", test1.statistic)\n",
    "print(\"Significant at alpha=0.05?\", test1.pvalue < 0.05)\n",
    "\n",
    "# Output results for test 2\n",
    "print(\"p-value:\", test2.pvalue)\n",
    "print(\"Statistic:\", test2.statistic)\n",
    "print(\"Significant at alpha=0.05?\", test2.pvalue < 0.05)"
   ]
  }
 ],
 "metadata": {
  "kernelspec": {
   "display_name": "IntelligentSystems",
   "language": "python",
   "name": "python3"
  },
  "language_info": {
   "codemirror_mode": {
    "name": "ipython",
    "version": 3
   },
   "file_extension": ".py",
   "mimetype": "text/x-python",
   "name": "python",
   "nbconvert_exporter": "python",
   "pygments_lexer": "ipython3",
   "version": "3.12.5"
  }
 },
 "nbformat": 4,
 "nbformat_minor": 5
}
